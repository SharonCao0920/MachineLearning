{
  "nbformat": 4,
  "nbformat_minor": 0,
  "metadata": {
    "colab": {
      "provenance": []
    },
    "kernelspec": {
      "name": "python3",
      "display_name": "Python 3"
    },
    "language_info": {
      "name": "python"
    }
  },
  "cells": [
    {
      "cell_type": "markdown",
      "source": [
        "# **No Library Used**"
      ],
      "metadata": {
        "id": "ZbNhJ9eSMv61"
      }
    },
    {
      "cell_type": "code",
      "source": [
        "# Trainning data\n",
        "x = [1,2,3,4,5,1.1,2.2,2.5,3.8,4.8]\n",
        "y = [1.5,2,2,3.5,5,1.2,1.9,3.5,3.7,5.1]"
      ],
      "metadata": {
        "id": "x4-a_euSrWS8"
      },
      "execution_count": null,
      "outputs": []
    },
    {
      "cell_type": "code",
      "execution_count": null,
      "metadata": {
        "colab": {
          "base_uri": "https://localhost:8080/"
        },
        "id": "63rcud-z9bcC",
        "outputId": "432b9f35-b36c-428a-90e0-b49071ac22fc"
      },
      "outputs": [
        {
          "output_type": "stream",
          "name": "stdout",
          "text": [
            "Linear Regression Formular is:\n",
            " y = 0.239 + 0.919x\n"
          ]
        }
      ],
      "source": [
        "# Calculate Linear Regression equations\n",
        "# y = a1 + b1 * x\n",
        "# without any libraries\n",
        "\n",
        "x_power = [n ** 2 for n in x]\n",
        "xy = [x[i] * y[i] for i in range(len(x))]\n",
        "\n",
        "# Slope\n",
        "b1 = (len(x)*sum(xy)-sum(x)*sum(y)) / (len(x)*sum(x_power)-sum(x)**2)\n",
        "# Intercept\n",
        "a1 = (sum(y)-b1*sum(x)) / len(x)\n",
        "\n",
        "print(\"Linear Regression Formular is:\\n\", \"y = {:.3f} + {:.3f}x\".format(a1, b1))\n"
      ]
    },
    {
      "cell_type": "code",
      "source": [
        "#Calculate Non-Linear Regression equations\n",
        "# y = a2 + b2 * x^2\n",
        "#without any libraries\n",
        " \n",
        "# p = x*x\n",
        "p = [n * n for n in x]\n",
        "p_power = [n ** 2 for n in p]\n",
        "py = [p[i] * y[i] for i in range(len(p))]\n",
        "\n",
        "# Slope\n",
        "b2 = (len(p)*sum(py)-sum(p)*sum(y)) / (len(p)*sum(p_power)-sum(p)**2)\n",
        "# Intercept\n",
        "a2 = (sum(y)-b2*sum(p)) / len(p)\n",
        "\n",
        "print(\"Non-Linear Regression Formular is:\\n\", \"y = {:.3f} + {:.3f}x^2\".format(a2, b2))\n"
      ],
      "metadata": {
        "colab": {
          "base_uri": "https://localhost:8080/"
        },
        "id": "GYmMEtj0oS-9",
        "outputId": "594acb85-22d1-4a8a-c86c-4bb9ee1fa7b0"
      },
      "execution_count": null,
      "outputs": [
        {
          "output_type": "stream",
          "name": "stdout",
          "text": [
            "Non-Linear Regression Formular is:\n",
            " y = 1.349 + 0.152x^2\n"
          ]
        }
      ]
    },
    {
      "cell_type": "code",
      "source": [
        "# Validation data\n",
        "x1 = [1.5,2.9,3.7,4.7,5.1]\n",
        "y1 = [1.7,2.7,2.5,2.8,5.5]"
      ],
      "metadata": {
        "id": "tW_K0WEurn3Q"
      },
      "execution_count": null,
      "outputs": []
    },
    {
      "cell_type": "code",
      "source": [
        "# MSE\n",
        "# Trainning set\n",
        "# Linear Regression\n",
        "\n",
        "y_M1real = [a1+b1*n for n in x]\n",
        "y_M2real = [a2+b2*n*n for n in x]\n",
        "\n",
        "sum1 = 0\n",
        "sum2 = 0\n",
        "\n",
        "# Model 1 linear regression\n",
        "for i in range (len(y_M1real)):\n",
        "  sum1 += (y_M1real[i]-y[i]) ** 2\n",
        "m1T_MSE = sum1 /len(y_M1real)\n",
        "print(\"MSE for trainning set of Model 1 is: {:.4f}\".format(m1T_MSE))\n",
        "\n",
        "# Model 2 Non-linear regression\n",
        "for i in range (len(y_M2real)):\n",
        "  sum2 += (y_M2real[i]-y[i]) ** 2\n",
        "m2T_MSE = sum2 /len(y_M2real)\n",
        "print(\"MSE for trainning set of Model 2 is: {:.4f}\\n\".format(m2T_MSE))\n",
        "\n",
        "\n",
        "# Validation Set\n",
        "y1_M1real = [a1+b1*n for n in x1]\n",
        "y1_M2real = [a2+b2*n*n for n in x1]\n",
        "\n",
        "sum3 = 0\n",
        "sum4 = 0\n",
        "\n",
        "# Model 1 linear regression\n",
        "for i in range (len(y1_M1real)):\n",
        "  sum3 += (y1_M1real[i]-y1[i]) ** 2\n",
        "m1V_MSE = sum3 /len(y1_M1real)\n",
        "print(\"MSE for validation set of Model 1 is: {:.4f}\".format(m1V_MSE))\n",
        "\n",
        "# Model 2 Non-linear regression\n",
        "for i in range (len(y1_M2real)):\n",
        "  sum4 += (y1_M2real[i]-y1[i]) ** 2\n",
        "m2V_MSE = sum4 /len(y1_M2real)\n",
        "print(\"MSE for validation set of Model 2 is: {:.4f}\\n\".format(m2V_MSE))"
      ],
      "metadata": {
        "colab": {
          "base_uri": "https://localhost:8080/"
        },
        "id": "2OWhweLUrfNj",
        "outputId": "fe9785a8-69ab-42a9-ef67-b7730422e569"
      },
      "execution_count": null,
      "outputs": [
        {
          "output_type": "stream",
          "name": "stdout",
          "text": [
            "MSE for trainning set of Model 1 is: 0.2579\n",
            "MSE for trainning set of Model 2 is: 0.2291\n",
            "\n",
            "MSE for validation set of Model 1 is: 0.9524\n",
            "MSE for validation set of Model 2 is: 0.9055\n",
            "\n"
          ]
        }
      ]
    },
    {
      "cell_type": "code",
      "source": [
        "# Compare Model 1 and Model 2\n",
        "# Model 1\n",
        "c_m1 = m1V_MSE / m1T_MSE\n",
        "print(\"Model 1 score is \", c_m1)\n",
        "# Model 2\n",
        "c_m2 = m2V_MSE / m2T_MSE\n",
        "print(\"Model 2 score is \", c_m2)\n",
        "\n",
        "print()\n",
        "if c_m1 <= c_m2:\n",
        "  print(\"Model 1 is better than Model 2\")\n",
        "else:\n",
        "  print(\"Model 2 is better than Model 2\")\n"
      ],
      "metadata": {
        "colab": {
          "base_uri": "https://localhost:8080/"
        },
        "id": "YPfApisJvFRU",
        "outputId": "3ccf51cf-c4d2-4f0d-d676-5e12d778167b"
      },
      "execution_count": null,
      "outputs": [
        {
          "output_type": "stream",
          "name": "stdout",
          "text": [
            "Model 1 score is  3.6930968840818954\n",
            "Model 2 score is  3.952934769546499\n",
            "\n",
            "Model 1 is better than Model 2\n"
          ]
        }
      ]
    },
    {
      "cell_type": "markdown",
      "source": [
        "# **Using sklearn**"
      ],
      "metadata": {
        "id": "xXgD7bGIMqVS"
      }
    },
    {
      "cell_type": "code",
      "source": [
        "import numpy as np\n",
        "from sklearn.preprocessing import PolynomialFeatures\n",
        "from sklearn.linear_model import LinearRegression\n",
        "from sklearn.metrics import mean_squared_error\n",
        "\n",
        "# Generate some data\n",
        "# Tranning data\n",
        "x = np.array([1,2,3,4,5,1.1,2.2,2.5,3.8,4.8]).reshape(-1, 1)\n",
        "y = np.array([1.5,2,2,3.5,5,1.2,1.9,3.5,3.7,5.1])\n",
        "\n",
        "# Validation data\n",
        "x_v = np.array([1.5,2.9,3.7,4.7,5.1]).reshape((-1,1))\n",
        "y_v = np.array([1.7,2.7,2.5,2.8,5.5])\n",
        "\n"
      ],
      "metadata": {
        "id": "Wehv_6YLEgzt"
      },
      "execution_count": null,
      "outputs": []
    },
    {
      "cell_type": "code",
      "source": [
        "######################### Model 1 ##########################\n",
        "# Create a numpy array of data:\n",
        "x = np.array([1,2,3,4,5,1.1,2.2,2.5,3.8,4.8]).reshape((-1, 1))\n",
        "y = np.array([1.5,2,2,3.5,5,1.2,1.9,3.5,3.7,5.1])\n",
        "\n",
        "# Create an instance of a linear regression model and fit it to the data with the fit() function:\n",
        "model1 = LinearRegression().fit(x, y) \n",
        "\n",
        "# Intercept:\n",
        "intercept = model1.intercept_\n",
        "\n",
        "# Slope:\n",
        "coef = model1.coef_\n",
        "\n",
        "print(\"Model 1:\\ny = {:.3f} + {:.3f}*x\".format(intercept,coef[0]))\n",
        "\n",
        "# Make predictions\n",
        "y_pred = model1.predict(x)\n",
        "y_pred_v = model1.predict(x_v)\n",
        "\n",
        "# Calculate the MSE\n",
        "# Trainning\n",
        "mseT = mean_squared_error(y, y_pred)\n",
        "print(\"Mean Squared Error for trainning set:\", mseT)\n",
        "\n",
        "# Validation\n",
        "mseV = mean_squared_error(y_v, y_pred_v)\n",
        "print(\"Mean Squared Error for validation set:\", mseV)\n",
        "\n",
        "m1_score = mseV / mseT\n",
        "print(\"Model 1 score: \", m1_score)\n",
        "print()\n"
      ],
      "metadata": {
        "colab": {
          "base_uri": "https://localhost:8080/"
        },
        "id": "jU5z75zu5Abz",
        "outputId": "9679343c-b772-48e6-bc49-88febaf76beb"
      },
      "execution_count": null,
      "outputs": [
        {
          "output_type": "stream",
          "name": "stdout",
          "text": [
            "Model 1:\n",
            "y = 0.239 + 0.919*x\n",
            "Mean Squared Error for trainning set: 0.25789740514609677\n",
            "Mean Squared Error for validation set: 0.9524401033578563\n",
            "Model 1 score:  3.6930968840818963\n",
            "\n"
          ]
        }
      ]
    },
    {
      "cell_type": "code",
      "source": [
        "####################### Model 2 ############################\n",
        "# Transform the data into a higher-dimensional space\n",
        "poly = PolynomialFeatures(degree=2)\n",
        "x_poly = poly.fit_transform(x)\n",
        "x_v_poly = poly.fit_transform(x_v)\n",
        "\n",
        "# Fit a linear regression model to the polynomial features\n",
        "model2 = LinearRegression()\n",
        "model2.fit(x_poly, y)\n",
        "\n",
        "# Print the final equation\n",
        "coef = model2.coef_\n",
        "intercept = model2.intercept_\n",
        "print(\"Model 2:\\ny = {:.3f} + {:.3f}*x + {:.9f}*x^2\".format(intercept,coef[1], coef[0]))\n",
        "\n",
        "# Make predictions\n",
        "y2_pred = model2.predict(x_poly)\n",
        "y2_pred_v = model2.predict(x_v_poly)\n",
        "\n",
        "# Calculate the MSE\n",
        "# Trainning\n",
        "mseT2 = mean_squared_error(y, y2_pred)\n",
        "print(\"Mean Squared Error for trainning set:\", mseT2)\n",
        "\n",
        "# Validation\n",
        "mseV2 = mean_squared_error(y_v, y2_pred_v)\n",
        "print(\"Mean Squared Error for validation set:\", mseV2)\n",
        "\n",
        "m2_score = mseV2 / mseT2\n",
        "print(\"Model 2 score: \", m2_score)\n",
        "print()\n"
      ],
      "metadata": {
        "colab": {
          "base_uri": "https://localhost:8080/"
        },
        "id": "PqoG3e6k5HAa",
        "outputId": "5bc33b0e-b29f-4a8e-b7ec-df1f18b55eb0"
      },
      "execution_count": null,
      "outputs": [
        {
          "output_type": "stream",
          "name": "stdout",
          "text": [
            "Model 2:\n",
            "y = 1.059 + 0.231*x + 0.000000000*x^2\n",
            "Mean Squared Error for trainning set: 0.22553959292776132\n",
            "Mean Squared Error for validation set: 0.9150979389564325\n",
            "Model 2 score:  4.057371599715229\n",
            "\n"
          ]
        }
      ]
    },
    {
      "cell_type": "code",
      "source": [
        "################### Compare #############################\n",
        "print(\"\\nSelect Model\")\n",
        "if m1_score <= m2_score:\n",
        "  print(\"Model 1 is better than Model 2\")\n",
        "else:\n",
        "  print(\"Model 2 is better than Model 2\")"
      ],
      "metadata": {
        "colab": {
          "base_uri": "https://localhost:8080/"
        },
        "id": "j6aZJrbJ5Ify",
        "outputId": "1c22f53e-5170-4532-af5c-68fcc97edd3f"
      },
      "execution_count": null,
      "outputs": [
        {
          "output_type": "stream",
          "name": "stdout",
          "text": [
            "\n",
            "Select Model\n",
            "Model 1 is better than Model 2\n"
          ]
        }
      ]
    },
    {
      "cell_type": "code",
      "source": [
        "# Enhancement\n",
        "# Plot the dots and graph the models\n",
        "import matplotlib.pyplot as plt\n",
        "from sklearn.linear_model import LinearRegression\n",
        "\n",
        "# plot the data points\n",
        "plt.scatter(x, y)\n",
        "plt.scatter(x_v, y_v, color='aqua')\n",
        "\n",
        "# plot the regression line\n",
        "plt.plot( x, model1.predict(x), color='red')\n",
        "\n",
        "x_fit = np.linspace(0, 6, 100)\n",
        "y_fit = model2.predict(poly.fit_transform(x_fit.reshape(-1, 1)))\n",
        "plt.plot(x_fit, y_fit, '-r', color='limegreen')\n",
        "\n",
        "plt.show()\n"
      ],
      "metadata": {
        "colab": {
          "base_uri": "https://localhost:8080/",
          "height": 265
        },
        "id": "lXOl-yGa6-B4",
        "outputId": "3ffef3fb-ee3f-4ba5-e5e6-d07a7ad9d6dd"
      },
      "execution_count": null,
      "outputs": [
        {
          "output_type": "display_data",
          "data": {
            "text/plain": [
              "<Figure size 432x288 with 1 Axes>"
            ],
            "image/png": "[encoded data removed]"
          },
          "metadata": {
            "needs_background": "light"
          }
        }
      ]
    }
  ]
}